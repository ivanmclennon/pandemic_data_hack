{
 "cells": [
  {
   "cell_type": "code",
   "execution_count": 1,
   "metadata": {},
   "outputs": [],
   "source": [
    "import pandas as pd\n",
    "import numpy as np\n",
    "import matplotlib.pyplot as plt"
   ]
  },
  {
   "cell_type": "markdown",
   "metadata": {},
   "source": [
    "# TODO"
   ]
  },
  {
   "cell_type": "markdown",
   "metadata": {},
   "source": [
    "(х) очистить возраст - максимальные выбросы(заменить на медиану), 1-17 лет (если опыт 0-50 лет, возраст=опыт+18), пустые()\n",
    "\n",
    "(х) очистить опыт - опыт больше возраста(заменить на средний опыт по возрасту)\n",
    "\n",
    "(х) очистить должность - нижний регистр без пунктуации"
   ]
  },
  {
   "cell_type": "markdown",
   "metadata": {},
   "source": [
    "## read csv"
   ]
  },
  {
   "cell_type": "code",
   "execution_count": 2,
   "metadata": {},
   "outputs": [],
   "source": [
    "#read and print train data\n",
    "raw_train_data = pd.read_csv('train.csv', sep=';')"
   ]
  },
  {
   "cell_type": "code",
   "execution_count": 24,
   "metadata": {},
   "outputs": [
    {
     "data": {
      "text/html": [
       "<div>\n",
       "<style scoped>\n",
       "    .dataframe tbody tr th:only-of-type {\n",
       "        vertical-align: middle;\n",
       "    }\n",
       "\n",
       "    .dataframe tbody tr th {\n",
       "        vertical-align: top;\n",
       "    }\n",
       "\n",
       "    .dataframe thead th {\n",
       "        text-align: right;\n",
       "    }\n",
       "</style>\n",
       "<table border=\"1\" class=\"dataframe\">\n",
       "  <thead>\n",
       "    <tr style=\"text-align: right;\">\n",
       "      <th></th>\n",
       "      <th>age</th>\n",
       "      <th>experience</th>\n",
       "      <th>position</th>\n",
       "    </tr>\n",
       "  </thead>\n",
       "  <tbody>\n",
       "    <tr>\n",
       "      <th>0</th>\n",
       "      <td>21.0</td>\n",
       "      <td>3</td>\n",
       "      <td>Специалист</td>\n",
       "    </tr>\n",
       "    <tr>\n",
       "      <th>1</th>\n",
       "      <td>26.0</td>\n",
       "      <td>4</td>\n",
       "      <td>Лаборант</td>\n",
       "    </tr>\n",
       "    <tr>\n",
       "      <th>2</th>\n",
       "      <td>36.0</td>\n",
       "      <td>12</td>\n",
       "      <td>Специалист, администратор, бухгалтер, экономист</td>\n",
       "    </tr>\n",
       "    <tr>\n",
       "      <th>3</th>\n",
       "      <td>34.0</td>\n",
       "      <td>9</td>\n",
       "      <td>Специалист</td>\n",
       "    </tr>\n",
       "    <tr>\n",
       "      <th>4</th>\n",
       "      <td>25.0</td>\n",
       "      <td>1</td>\n",
       "      <td>Инструктор по плаванию</td>\n",
       "    </tr>\n",
       "  </tbody>\n",
       "</table>\n",
       "</div>"
      ],
      "text/plain": [
       "    age  experience                                         position\n",
       "0  21.0           3                                       Специалист\n",
       "1  26.0           4                                         Лаборант\n",
       "2  36.0          12  Специалист, администратор, бухгалтер, экономист\n",
       "3  34.0           9                                       Специалист\n",
       "4  25.0           1                           Инструктор по плаванию"
      ]
     },
     "execution_count": 24,
     "metadata": {},
     "output_type": "execute_result"
    }
   ],
   "source": [
    "raw_train_data[['age','experience','position']].head()"
   ]
  },
  {
   "cell_type": "code",
   "execution_count": 25,
   "metadata": {},
   "outputs": [
    {
     "data": {
      "text/html": [
       "<div>\n",
       "<style scoped>\n",
       "    .dataframe tbody tr th:only-of-type {\n",
       "        vertical-align: middle;\n",
       "    }\n",
       "\n",
       "    .dataframe tbody tr th {\n",
       "        vertical-align: top;\n",
       "    }\n",
       "\n",
       "    .dataframe thead th {\n",
       "        text-align: right;\n",
       "    }\n",
       "</style>\n",
       "<table border=\"1\" class=\"dataframe\">\n",
       "  <thead>\n",
       "    <tr style=\"text-align: right;\">\n",
       "      <th></th>\n",
       "      <th>age</th>\n",
       "      <th>experience</th>\n",
       "      <th>position</th>\n",
       "    </tr>\n",
       "  </thead>\n",
       "  <tbody>\n",
       "    <tr>\n",
       "      <th>count</th>\n",
       "      <td>298459.000000</td>\n",
       "      <td>306270.000000</td>\n",
       "      <td>306270</td>\n",
       "    </tr>\n",
       "    <tr>\n",
       "      <th>unique</th>\n",
       "      <td>NaN</td>\n",
       "      <td>NaN</td>\n",
       "      <td>77762</td>\n",
       "    </tr>\n",
       "    <tr>\n",
       "      <th>top</th>\n",
       "      <td>NaN</td>\n",
       "      <td>NaN</td>\n",
       "      <td>Специалист</td>\n",
       "    </tr>\n",
       "    <tr>\n",
       "      <th>freq</th>\n",
       "      <td>NaN</td>\n",
       "      <td>NaN</td>\n",
       "      <td>10098</td>\n",
       "    </tr>\n",
       "    <tr>\n",
       "      <th>mean</th>\n",
       "      <td>35.661344</td>\n",
       "      <td>5.748225</td>\n",
       "      <td>NaN</td>\n",
       "    </tr>\n",
       "    <tr>\n",
       "      <th>std</th>\n",
       "      <td>12.616996</td>\n",
       "      <td>7.745237</td>\n",
       "      <td>NaN</td>\n",
       "    </tr>\n",
       "    <tr>\n",
       "      <th>min</th>\n",
       "      <td>2.000000</td>\n",
       "      <td>0.000000</td>\n",
       "      <td>NaN</td>\n",
       "    </tr>\n",
       "    <tr>\n",
       "      <th>25%</th>\n",
       "      <td>28.000000</td>\n",
       "      <td>0.000000</td>\n",
       "      <td>NaN</td>\n",
       "    </tr>\n",
       "    <tr>\n",
       "      <th>50%</th>\n",
       "      <td>34.000000</td>\n",
       "      <td>3.000000</td>\n",
       "      <td>NaN</td>\n",
       "    </tr>\n",
       "    <tr>\n",
       "      <th>75%</th>\n",
       "      <td>42.000000</td>\n",
       "      <td>9.000000</td>\n",
       "      <td>NaN</td>\n",
       "    </tr>\n",
       "    <tr>\n",
       "      <th>max</th>\n",
       "      <td>1936.000000</td>\n",
       "      <td>937.000000</td>\n",
       "      <td>NaN</td>\n",
       "    </tr>\n",
       "  </tbody>\n",
       "</table>\n",
       "</div>"
      ],
      "text/plain": [
       "                  age     experience    position\n",
       "count   298459.000000  306270.000000      306270\n",
       "unique            NaN            NaN       77762\n",
       "top               NaN            NaN  Специалист\n",
       "freq              NaN            NaN       10098\n",
       "mean        35.661344       5.748225         NaN\n",
       "std         12.616996       7.745237         NaN\n",
       "min          2.000000       0.000000         NaN\n",
       "25%         28.000000       0.000000         NaN\n",
       "50%         34.000000       3.000000         NaN\n",
       "75%         42.000000       9.000000         NaN\n",
       "max       1936.000000     937.000000         NaN"
      ]
     },
     "execution_count": 25,
     "metadata": {},
     "output_type": "execute_result"
    }
   ],
   "source": [
    "raw_train_data[['age','experience','position']].describe(include='all')"
   ]
  },
  {
   "cell_type": "code",
   "execution_count": 27,
   "metadata": {},
   "outputs": [
    {
     "data": {
      "text/plain": [
       "5.748225422013256"
      ]
     },
     "execution_count": 27,
     "metadata": {},
     "output_type": "execute_result"
    }
   ],
   "source": [
    "raw_train_data['experience'].mean()"
   ]
  },
  {
   "cell_type": "code",
   "execution_count": 30,
   "metadata": {},
   "outputs": [
    {
     "data": {
      "text/plain": [
       "array([ 49, 108,  65,  66, 102,  51,  55,  59, 122,  46,  43,  52,  97,\n",
       "         8,  40,  56, 902,  86,  62, 154,   7,  99,  64, 937, 100],\n",
       "      dtype=int64)"
      ]
     },
     "execution_count": 30,
     "metadata": {},
     "output_type": "execute_result"
    }
   ],
   "source": [
    "raw_train_data[raw_train_data['experience'] > raw_train_data['age']]['experience'].unique()"
   ]
  },
  {
   "cell_type": "code",
   "execution_count": 31,
   "metadata": {},
   "outputs": [
    {
     "data": {
      "text/plain": [
       "27"
      ]
     },
     "execution_count": 31,
     "metadata": {},
     "output_type": "execute_result"
    }
   ],
   "source": [
    "raw_train_data[raw_train_data['experience'] > raw_train_data['age']]['experience'].count()"
   ]
  },
  {
   "cell_type": "markdown",
   "metadata": {},
   "source": [
    "## clean age column"
   ]
  },
  {
   "cell_type": "code",
   "execution_count": 9,
   "metadata": {},
   "outputs": [
    {
     "data": {
      "text/plain": [
       "array([  21.,   26.,   36.,   34.,   25.,   49.,   nan,   28.,   32.,\n",
       "         23.,   38.,   41.,   53.,   27.,   37.,   31.,   33.,   54.,\n",
       "         44.,   55.,   57.,   42.,   40.,   29.,   30.,   60.,   45.,\n",
       "         39.,   19.,   22.,   56.,   58.,   52.,   35.,   46.,   24.,\n",
       "         43.,   59.,   16.,   18.,   50.,   51.,   47.,   20.,   48.,\n",
       "         70.,   61.,   17.,   68.,   63.,   66.,   72.,   15.,   64.,\n",
       "         62.,   67.,   65.,   69.,   79.,   73.,   71.,    5.,    7.,\n",
       "          4.,   75.,  132.,   77.,  119.,   74.,   14.,   76., 1933.,\n",
       "       1928.,    2., 1926., 1936.,    8., 1924.,    3.,   82.])"
      ]
     },
     "execution_count": 9,
     "metadata": {},
     "output_type": "execute_result"
    }
   ],
   "source": [
    "raw_train_data['age'].unique()"
   ]
  },
  {
   "cell_type": "code",
   "execution_count": 10,
   "metadata": {},
   "outputs": [
    {
     "data": {
      "text/plain": [
       "7811"
      ]
     },
     "execution_count": 10,
     "metadata": {},
     "output_type": "execute_result"
    }
   ],
   "source": [
    "raw_train_data['age'].isna().sum()"
   ]
  },
  {
   "cell_type": "markdown",
   "metadata": {},
   "source": [
    "### max outliers"
   ]
  },
  {
   "cell_type": "code",
   "execution_count": 11,
   "metadata": {},
   "outputs": [],
   "source": [
    "mask = (raw_train_data['age'] > 100.0)\n",
    "raw_train_data['age_cleaned'] = np.where(mask, round(raw_train_data['age'].median(),1), raw_train_data['age'])"
   ]
  },
  {
   "cell_type": "code",
   "execution_count": 12,
   "metadata": {},
   "outputs": [
    {
     "data": {
      "text/plain": [
       "array([21., 26., 36., 34., 25., 49., nan, 28., 32., 23., 38., 41., 53.,\n",
       "       27., 37., 31., 33., 54., 44., 55., 57., 42., 40., 29., 30., 60.,\n",
       "       45., 39., 19., 22., 56., 58., 52., 35., 46., 24., 43., 59., 16.,\n",
       "       18., 50., 51., 47., 20., 48., 70., 61., 17., 68., 63., 66., 72.,\n",
       "       15., 64., 62., 67., 65., 69., 79., 73., 71.,  5.,  7.,  4., 75.,\n",
       "       77., 74., 14., 76.,  2.,  8.,  3., 82.])"
      ]
     },
     "execution_count": 12,
     "metadata": {},
     "output_type": "execute_result"
    }
   ],
   "source": [
    "raw_train_data['age_cleaned'].unique()"
   ]
  },
  {
   "cell_type": "code",
   "execution_count": 13,
   "metadata": {},
   "outputs": [
    {
     "data": {
      "text/plain": [
       "array([21., 26., 36., 34., 25., 49., nan, 28., 32., 23., 38., 41., 53.,\n",
       "       27., 37., 31., 33., 54., 44., 55., 57., 42., 40., 29., 30., 60.,\n",
       "       45., 39., 19., 22., 56., 58., 52., 35., 46., 24., 43., 59., 16.,\n",
       "       18., 50., 51., 47., 20., 48., 70., 61., 17., 68., 63., 66., 72.,\n",
       "       15., 64., 62., 67., 65., 69., 79., 73., 71.,  5.,  7.,  4., 75.,\n",
       "       77., 74., 14., 76.,  2.,  8.,  3., 82.])"
      ]
     },
     "execution_count": 13,
     "metadata": {},
     "output_type": "execute_result"
    }
   ],
   "source": [
    "masks = [(raw_train_data['age'] < 18.0),(raw_train_data['age'].isna()),(raw_train_data['experience'] > 50)]\n",
    "mask = [(a or b) and c for a,b,c in zip(*masks)]\n",
    "\n",
    "raw_train_data['age_cleaned'] = np.where(mask, round(raw_train_data['age'].median(),1), raw_train_data['age_cleaned'])\n",
    "raw_train_data['age_cleaned'].unique()"
   ]
  },
  {
   "cell_type": "markdown",
   "metadata": {},
   "source": [
    "### 1-17 y.o."
   ]
  },
  {
   "cell_type": "code",
   "execution_count": 14,
   "metadata": {},
   "outputs": [
    {
     "data": {
      "text/plain": [
       "array([21., 26., 36., 34., 25., 49., 35., 28., 32., 23., 38., 41., 53.,\n",
       "       27., 37., 31., 33., 54., 44., 55., 57., 42., 40., 29., 30., 60.,\n",
       "       45., 39., 19., 22., 56., 18., 58., 52., 46., 24., 43., 59., 50.,\n",
       "       51., 47., 20., 48., 70., 61., 68., 63., 66., 72., 64., 62., 67.,\n",
       "       65., 69., 79., 73., 71., 75., 77., 74., 76., 82.])"
      ]
     },
     "execution_count": 14,
     "metadata": {},
     "output_type": "execute_result"
    }
   ],
   "source": [
    "masks = [(raw_train_data['age'].isna()),(raw_train_data['age'] < 18.0),(raw_train_data['experience'] >= 0),(raw_train_data['experience'] <= 50)]\n",
    "mask = [(a or b) and c and d for a,b,c,d in zip(*masks)]\n",
    "\n",
    "raw_train_data['age_cleaned'] = np.where(mask, raw_train_data['experience']+18.0, raw_train_data['age_cleaned'])\n",
    "raw_train_data['age_cleaned'].unique()"
   ]
  },
  {
   "cell_type": "code",
   "execution_count": 15,
   "metadata": {},
   "outputs": [
    {
     "data": {
      "text/plain": [
       "0"
      ]
     },
     "execution_count": 15,
     "metadata": {},
     "output_type": "execute_result"
    }
   ],
   "source": [
    "raw_train_data['age_cleaned'].isna().sum()"
   ]
  },
  {
   "cell_type": "markdown",
   "metadata": {},
   "source": [
    "# clean experience column"
   ]
  },
  {
   "cell_type": "code",
   "execution_count": 16,
   "metadata": {},
   "outputs": [],
   "source": [
    "mapping = raw_train_data[raw_train_data['age_cleaned']>raw_train_data['experience']].groupby('age_cleaned').mean().apply(list).to_dict()['experience']"
   ]
  },
  {
   "cell_type": "code",
   "execution_count": 17,
   "metadata": {},
   "outputs": [],
   "source": [
    "raw_train_data['experience_cleaned'] = raw_train_data['experience']\n",
    "raw_train_data.loc[raw_train_data['age_cleaned']<raw_train_data['experience_cleaned'],'experience_cleaned'] = raw_train_data[raw_train_data['age_cleaned']<raw_train_data['experience_cleaned']]['age_cleaned'].map(mapping)"
   ]
  },
  {
   "cell_type": "markdown",
   "metadata": {},
   "source": [
    "# preprocess position"
   ]
  },
  {
   "cell_type": "code",
   "execution_count": 18,
   "metadata": {},
   "outputs": [],
   "source": [
    "import string"
   ]
  },
  {
   "cell_type": "code",
   "execution_count": 19,
   "metadata": {},
   "outputs": [],
   "source": [
    "raw_train_data['position_cleaned'] = raw_train_data['position'].str.lower()"
   ]
  },
  {
   "cell_type": "code",
   "execution_count": 20,
   "metadata": {},
   "outputs": [],
   "source": [
    "raw_train_data['position_cleaned'] = raw_train_data['position_cleaned'].str.translate(str.maketrans('', '', string.punctuation))"
   ]
  },
  {
   "cell_type": "code",
   "execution_count": 32,
   "metadata": {},
   "outputs": [
    {
     "data": {
      "text/html": [
       "<div>\n",
       "<style scoped>\n",
       "    .dataframe tbody tr th:only-of-type {\n",
       "        vertical-align: middle;\n",
       "    }\n",
       "\n",
       "    .dataframe tbody tr th {\n",
       "        vertical-align: top;\n",
       "    }\n",
       "\n",
       "    .dataframe thead th {\n",
       "        text-align: right;\n",
       "    }\n",
       "</style>\n",
       "<table border=\"1\" class=\"dataframe\">\n",
       "  <thead>\n",
       "    <tr style=\"text-align: right;\">\n",
       "      <th></th>\n",
       "      <th>age_cleaned</th>\n",
       "      <th>experience_cleaned</th>\n",
       "      <th>position</th>\n",
       "    </tr>\n",
       "  </thead>\n",
       "  <tbody>\n",
       "    <tr>\n",
       "      <th>count</th>\n",
       "      <td>306270.000000</td>\n",
       "      <td>306270.000000</td>\n",
       "      <td>306270</td>\n",
       "    </tr>\n",
       "    <tr>\n",
       "      <th>unique</th>\n",
       "      <td>NaN</td>\n",
       "      <td>NaN</td>\n",
       "      <td>77762</td>\n",
       "    </tr>\n",
       "    <tr>\n",
       "      <th>top</th>\n",
       "      <td>NaN</td>\n",
       "      <td>NaN</td>\n",
       "      <td>Специалист</td>\n",
       "    </tr>\n",
       "    <tr>\n",
       "      <th>freq</th>\n",
       "      <td>NaN</td>\n",
       "      <td>NaN</td>\n",
       "      <td>10098</td>\n",
       "    </tr>\n",
       "    <tr>\n",
       "      <th>mean</th>\n",
       "      <td>35.278581</td>\n",
       "      <td>5.736430</td>\n",
       "      <td>NaN</td>\n",
       "    </tr>\n",
       "    <tr>\n",
       "      <th>std</th>\n",
       "      <td>10.110358</td>\n",
       "      <td>7.350172</td>\n",
       "      <td>NaN</td>\n",
       "    </tr>\n",
       "    <tr>\n",
       "      <th>min</th>\n",
       "      <td>18.000000</td>\n",
       "      <td>0.000000</td>\n",
       "      <td>NaN</td>\n",
       "    </tr>\n",
       "    <tr>\n",
       "      <th>25%</th>\n",
       "      <td>27.000000</td>\n",
       "      <td>0.000000</td>\n",
       "      <td>NaN</td>\n",
       "    </tr>\n",
       "    <tr>\n",
       "      <th>50%</th>\n",
       "      <td>34.000000</td>\n",
       "      <td>3.000000</td>\n",
       "      <td>NaN</td>\n",
       "    </tr>\n",
       "    <tr>\n",
       "      <th>75%</th>\n",
       "      <td>42.000000</td>\n",
       "      <td>9.000000</td>\n",
       "      <td>NaN</td>\n",
       "    </tr>\n",
       "    <tr>\n",
       "      <th>max</th>\n",
       "      <td>82.000000</td>\n",
       "      <td>62.000000</td>\n",
       "      <td>NaN</td>\n",
       "    </tr>\n",
       "  </tbody>\n",
       "</table>\n",
       "</div>"
      ],
      "text/plain": [
       "          age_cleaned  experience_cleaned    position\n",
       "count   306270.000000       306270.000000      306270\n",
       "unique            NaN                 NaN       77762\n",
       "top               NaN                 NaN  Специалист\n",
       "freq              NaN                 NaN       10098\n",
       "mean        35.278581            5.736430         NaN\n",
       "std         10.110358            7.350172         NaN\n",
       "min         18.000000            0.000000         NaN\n",
       "25%         27.000000            0.000000         NaN\n",
       "50%         34.000000            3.000000         NaN\n",
       "75%         42.000000            9.000000         NaN\n",
       "max         82.000000           62.000000         NaN"
      ]
     },
     "execution_count": 32,
     "metadata": {},
     "output_type": "execute_result"
    }
   ],
   "source": [
    "raw_train_data[['age_cleaned','experience_cleaned','position']].describe(include='all')"
   ]
  }
 ],
 "metadata": {
  "kernelspec": {
   "display_name": "Python 3",
   "language": "python",
   "name": "python3"
  },
  "language_info": {
   "codemirror_mode": {
    "name": "ipython",
    "version": 3
   },
   "file_extension": ".py",
   "mimetype": "text/x-python",
   "name": "python",
   "nbconvert_exporter": "python",
   "pygments_lexer": "ipython3",
   "version": "3.8.5"
  }
 },
 "nbformat": 4,
 "nbformat_minor": 4
}
